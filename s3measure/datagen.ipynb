{
 "cells": [
  {
   "cell_type": "code",
   "execution_count": 1,
   "id": "39e791c9-32ed-40ca-b5da-53cbed514b40",
   "metadata": {
    "execution": {
     "iopub.execute_input": "2024-06-11T11:36:18.714579Z",
     "iopub.status.busy": "2024-06-11T11:36:18.713512Z",
     "iopub.status.idle": "2024-06-11T11:36:19.666520Z",
     "shell.execute_reply": "2024-06-11T11:36:19.665717Z",
     "shell.execute_reply.started": "2024-06-11T11:36:18.714526Z"
    },
    "tags": []
   },
   "outputs": [
    {
     "name": "stdout",
     "output_type": "stream",
     "text": [
      "24/06/11 11:36:19 WARN SparkSession: Using an existing Spark session; only runtime SQL configurations will take effect.\n",
      "Welcome to\n",
      "      ____              __\n",
      "     / __/__  ___ _____/ /__\n",
      "    _\\ \\/ _ \\/ _ `/ __/  '_/\n",
      "   /__ / .__/\\_,_/_/ /_/\\_\\   version 3.3.2\n",
      "      /_/\n",
      "\n",
      "Using Python version 3.8.10 (default, Nov 22 2023 10:22:35)\n",
      "Spark context Web UI available at http://10.128.0.6:4040\n",
      "Spark context available as 'sc' (master = yarn, app id = application_1718099923489_0004).\n",
      "SparkSession available as 'spark'.\n"
     ]
    }
   ],
   "source": [
    "from pyspark.shell import spark\n",
    "from pyspark.sql import SparkSession\n",
    "from pyspark.sql.types import IntegerType,BooleanType,DateType,BinaryType\n",
    "from pyspark.sql.functions import spark_partition_id\n",
    "from pyspark.sql.functions import col\n",
    "from pyspark.sql.functions import expr\n",
    "from pyspark.sql.functions import md5"
   ]
  },
  {
   "cell_type": "code",
   "execution_count": 2,
   "id": "86ee4f2a-4c80-4160-b09d-91621313f97d",
   "metadata": {
    "execution": {
     "iopub.execute_input": "2024-06-11T11:36:35.559487Z",
     "iopub.status.busy": "2024-06-11T11:36:35.558416Z",
     "iopub.status.idle": "2024-06-11T11:36:35.661924Z",
     "shell.execute_reply": "2024-06-11T11:36:35.661005Z",
     "shell.execute_reply.started": "2024-06-11T11:36:35.559442Z"
    },
    "tags": []
   },
   "outputs": [],
   "source": [
    "BUCKET_NAME = \"mzinal-dproc1\"\n",
    "OUTPUT_PATH = \"s3a://\" + BUCKET_NAME + \"/datagen1/\"\n",
    "numPart = 100\n",
    "rowsPerPart = 500000 # 50Mb each file, 5G total\n",
    "\n",
    "spark.conf.set(\"spark.sql.repl.eagerEval.enabled\", True)"
   ]
  },
  {
   "cell_type": "code",
   "execution_count": 3,
   "id": "22793df2-0443-4bc4-b30c-69ca6ea4a2a8",
   "metadata": {
    "execution": {
     "iopub.execute_input": "2024-06-11T11:36:40.409959Z",
     "iopub.status.busy": "2024-06-11T11:36:40.408988Z",
     "iopub.status.idle": "2024-06-11T11:36:40.426496Z",
     "shell.execute_reply": "2024-06-11T11:36:40.425593Z",
     "shell.execute_reply.started": "2024-06-11T11:36:40.409918Z"
    },
    "tags": []
   },
   "outputs": [],
   "source": [
    "def genPartition(part):\n",
    "  for row in part:\n",
    "    for val in range(0, rowsPerPart):\n",
    "      yield [val]"
   ]
  },
  {
   "cell_type": "code",
   "execution_count": 4,
   "id": "e0c58b0c-b7ac-41e9-a93e-f870d3074a0c",
   "metadata": {
    "execution": {
     "iopub.execute_input": "2024-06-11T11:36:45.237076Z",
     "iopub.status.busy": "2024-06-11T11:36:45.235854Z",
     "iopub.status.idle": "2024-06-11T11:36:51.781328Z",
     "shell.execute_reply": "2024-06-11T11:36:51.780057Z",
     "shell.execute_reply.started": "2024-06-11T11:36:45.237019Z"
    },
    "tags": []
   },
   "outputs": [
    {
     "name": "stderr",
     "output_type": "stream",
     "text": [
      "                                                                                \r"
     ]
    }
   ],
   "source": [
    "df1 = spark.createDataFrame(data=list(map(lambda x: [x], list(range(1, numPart+1)))), schema = [\"id_part\"])\n",
    "df2 = df1.repartition(numPart).rdd.mapPartitions(genPartition).toDF([\"val\"])\n",
    "df3 = df2.withColumn(\"val\",df2.val.cast(IntegerType()))\n",
    "df4 = df3.withColumn(\"spark_partition_id\",spark_partition_id()) \\\n",
    "  .withColumn(\"int_1\",col(\"val\")+20) \\\n",
    "  .withColumn(\"int_2\",col(\"val\")+30) \\\n",
    "  .withColumn(\"int_3\",col(\"val\")+33) \\\n",
    "  .withColumn(\"int_4\",col(\"val\")+37) \\\n",
    "  .withColumn(\"int_5\",col(\"val\")+1000000000) \\\n",
    "  .withColumn(\"int_6\",col(\"val\")+2000000000) \\\n",
    "  .withColumn(\"long_1\",col(\"val\")+3000000000) \\\n",
    "  .withColumn(\"long_2\",col(\"val\")+4100000000) \\\n",
    "  .withColumn(\"long_3\",col(\"val\")+4200000000) \\\n",
    "  .withColumn(\"long_4\",col(\"val\")+4300000000) \\\n",
    "  .withColumn(\"long_5\",col(\"val\")+4400000000) \\\n",
    "  .withColumn(\"long_6\",col(\"val\")+4500000000) \\\n",
    "  .withColumn(\"double_1\", expr(\"CAST(int_6/8 AS double)\")) \\\n",
    "  .withColumn(\"double_2\", expr(\"CAST(int_6/10 AS double)\")) \\\n",
    "  .withColumn(\"decimal_1\", expr(\"CAST(int_6/100 AS DECIMAL(10,2))\")) \\\n",
    "  .withColumn(\"decimal_2\", expr(\"CAST(int_3/100 AS DECIMAL(10,2))\")) \\\n",
    "  .withColumn(\"decimal_3\", expr(\"CAST(int_2/100 AS DECIMAL(10,2))\")) \\\n",
    "  .withColumn(\"str_1\",md5(col(\"int_1\").cast(BinaryType()))) \\\n",
    "  .withColumn(\"str_2\",col(\"str_1\")) \\\n",
    "  .withColumn(\"str_3\",col(\"str_1\")) \\\n",
    "  .withColumn(\"str_4\",col(\"str_1\"))"
   ]
  },
  {
   "cell_type": "code",
   "execution_count": 5,
   "id": "52e82df1-0c5b-420d-a41b-5cda446e3c99",
   "metadata": {
    "execution": {
     "iopub.execute_input": "2024-06-11T11:36:58.860944Z",
     "iopub.status.busy": "2024-06-11T11:36:58.859956Z",
     "iopub.status.idle": "2024-06-11T11:37:51.772081Z",
     "shell.execute_reply": "2024-06-11T11:37:51.771005Z",
     "shell.execute_reply.started": "2024-06-11T11:36:58.860903Z"
    },
    "tags": []
   },
   "outputs": [
    {
     "name": "stderr",
     "output_type": "stream",
     "text": [
      "                                                                                \r"
     ]
    }
   ],
   "source": [
    "df4.write.mode(\"overwrite\").parquet(OUTPUT_PATH)"
   ]
  },
  {
   "cell_type": "code",
   "execution_count": 6,
   "id": "a5b1ce8d-dc16-4258-aac2-ae70d067b297",
   "metadata": {
    "execution": {
     "iopub.execute_input": "2024-06-11T11:38:09.131952Z",
     "iopub.status.busy": "2024-06-11T11:38:09.130736Z",
     "iopub.status.idle": "2024-06-11T11:38:09.769900Z",
     "shell.execute_reply": "2024-06-11T11:38:09.768661Z",
     "shell.execute_reply.started": "2024-06-11T11:38:09.131908Z"
    },
    "tags": []
   },
   "outputs": [],
   "source": [
    "df = spark.read.parquet(OUTPUT_PATH)\n",
    "df.printSchema\n",
    "df.createOrReplaceTempView(\"temp1\")"
   ]
  },
  {
   "cell_type": "code",
   "execution_count": 7,
   "id": "a9640dae-db5b-4c29-bc11-5d2e77d39768",
   "metadata": {
    "execution": {
     "iopub.execute_input": "2024-06-11T11:38:14.818590Z",
     "iopub.status.busy": "2024-06-11T11:38:14.817527Z",
     "iopub.status.idle": "2024-06-11T11:38:32.637726Z",
     "shell.execute_reply": "2024-06-11T11:38:32.636783Z",
     "shell.execute_reply.started": "2024-06-11T11:38:14.818547Z"
    },
    "tags": []
   },
   "outputs": [
    {
     "name": "stderr",
     "output_type": "stream",
     "text": [
      "                                                                                \r"
     ]
    },
    {
     "data": {
      "text/html": [
       "<table border='1'>\n",
       "<tr><th>val</th><th>spark_partition_id</th><th>int_1</th><th>int_2</th><th>int_3</th><th>int_4</th><th>int_5</th><th>int_6</th><th>long_1</th><th>long_2</th><th>long_3</th><th>long_4</th><th>long_5</th><th>long_6</th><th>double_1</th><th>double_2</th><th>decimal_1</th><th>decimal_2</th><th>decimal_3</th><th>str_1</th><th>str_2</th><th>str_3</th><th>str_4</th></tr>\n",
       "<tr><td>0</td><td>5</td><td>20</td><td>30</td><td>33</td><td>37</td><td>1000000000</td><td>2000000000</td><td>3000000000</td><td>4100000000</td><td>4200000000</td><td>4300000000</td><td>4400000000</td><td>4500000000</td><td>2.5E8</td><td>2.0E8</td><td>20000000.00</td><td>0.33</td><td>0.30</td><td>8e97382f2e6a1fe66...</td><td>8e97382f2e6a1fe66...</td><td>8e97382f2e6a1fe66...</td><td>8e97382f2e6a1fe66...</td></tr>\n",
       "<tr><td>1</td><td>5</td><td>21</td><td>31</td><td>34</td><td>38</td><td>1000000001</td><td>2000000001</td><td>3000000001</td><td>4100000001</td><td>4200000001</td><td>4300000001</td><td>4400000001</td><td>4500000001</td><td>2.50000000125E8</td><td>2.000000001E8</td><td>20000000.01</td><td>0.34</td><td>0.31</td><td>009d30980aa408f62...</td><td>009d30980aa408f62...</td><td>009d30980aa408f62...</td><td>009d30980aa408f62...</td></tr>\n",
       "<tr><td>2</td><td>5</td><td>22</td><td>32</td><td>35</td><td>39</td><td>1000000002</td><td>2000000002</td><td>3000000002</td><td>4100000002</td><td>4200000002</td><td>4300000002</td><td>4400000002</td><td>4500000002</td><td>2.5000000025E8</td><td>2.000000002E8</td><td>20000000.02</td><td>0.35</td><td>0.32</td><td>0764924ee9c3cff6d...</td><td>0764924ee9c3cff6d...</td><td>0764924ee9c3cff6d...</td><td>0764924ee9c3cff6d...</td></tr>\n",
       "<tr><td>3</td><td>5</td><td>23</td><td>33</td><td>36</td><td>40</td><td>1000000003</td><td>2000000003</td><td>3000000003</td><td>4100000003</td><td>4200000003</td><td>4300000003</td><td>4400000003</td><td>4500000003</td><td>2.50000000375E8</td><td>2.000000003E8</td><td>20000000.03</td><td>0.36</td><td>0.33</td><td>4dd9845b20c0205b6...</td><td>4dd9845b20c0205b6...</td><td>4dd9845b20c0205b6...</td><td>4dd9845b20c0205b6...</td></tr>\n",
       "<tr><td>4</td><td>5</td><td>24</td><td>34</td><td>37</td><td>41</td><td>1000000004</td><td>2000000004</td><td>3000000004</td><td>4100000004</td><td>4200000004</td><td>4300000004</td><td>4400000004</td><td>4500000004</td><td>2.500000005E8</td><td>2.000000004E8</td><td>20000000.04</td><td>0.37</td><td>0.34</td><td>b4526e59a534303ef...</td><td>b4526e59a534303ef...</td><td>b4526e59a534303ef...</td><td>b4526e59a534303ef...</td></tr>\n",
       "<tr><td>5</td><td>5</td><td>25</td><td>35</td><td>38</td><td>42</td><td>1000000005</td><td>2000000005</td><td>3000000005</td><td>4100000005</td><td>4200000005</td><td>4300000005</td><td>4400000005</td><td>4500000005</td><td>2.50000000625E8</td><td>2.000000005E8</td><td>20000000.05</td><td>0.38</td><td>0.35</td><td>59dea06d5a405f950...</td><td>59dea06d5a405f950...</td><td>59dea06d5a405f950...</td><td>59dea06d5a405f950...</td></tr>\n",
       "<tr><td>6</td><td>5</td><td>26</td><td>36</td><td>39</td><td>43</td><td>1000000006</td><td>2000000006</td><td>3000000006</td><td>4100000006</td><td>4200000006</td><td>4300000006</td><td>4400000006</td><td>4500000006</td><td>2.5000000075E8</td><td>2.000000006E8</td><td>20000000.06</td><td>0.39</td><td>0.36</td><td>7debb56a86892babf...</td><td>7debb56a86892babf...</td><td>7debb56a86892babf...</td><td>7debb56a86892babf...</td></tr>\n",
       "<tr><td>7</td><td>5</td><td>27</td><td>37</td><td>40</td><td>44</td><td>1000000007</td><td>2000000007</td><td>3000000007</td><td>4100000007</td><td>4200000007</td><td>4300000007</td><td>4400000007</td><td>4500000007</td><td>2.50000000875E8</td><td>2.000000007E8</td><td>20000000.07</td><td>0.40</td><td>0.37</td><td>1a6f00ceda41c4f90...</td><td>1a6f00ceda41c4f90...</td><td>1a6f00ceda41c4f90...</td><td>1a6f00ceda41c4f90...</td></tr>\n",
       "<tr><td>8</td><td>5</td><td>28</td><td>38</td><td>41</td><td>45</td><td>1000000008</td><td>2000000008</td><td>3000000008</td><td>4100000008</td><td>4200000008</td><td>4300000008</td><td>4400000008</td><td>4500000008</td><td>2.50000001E8</td><td>2.000000008E8</td><td>20000000.08</td><td>0.41</td><td>0.38</td><td>a54666d8d67223511...</td><td>a54666d8d67223511...</td><td>a54666d8d67223511...</td><td>a54666d8d67223511...</td></tr>\n",
       "<tr><td>9</td><td>5</td><td>29</td><td>39</td><td>42</td><td>46</td><td>1000000009</td><td>2000000009</td><td>3000000009</td><td>4100000009</td><td>4200000009</td><td>4300000009</td><td>4400000009</td><td>4500000009</td><td>2.50000001125E8</td><td>2.000000009E8</td><td>20000000.09</td><td>0.42</td><td>0.39</td><td>e3a98ec981a4c757b...</td><td>e3a98ec981a4c757b...</td><td>e3a98ec981a4c757b...</td><td>e3a98ec981a4c757b...</td></tr>\n",
       "<tr><td>10</td><td>5</td><td>30</td><td>40</td><td>43</td><td>47</td><td>1000000010</td><td>2000000010</td><td>3000000010</td><td>4100000010</td><td>4200000010</td><td>4300000010</td><td>4400000010</td><td>4500000010</td><td>2.5000000125E8</td><td>2.00000001E8</td><td>20000000.10</td><td>0.43</td><td>0.40</td><td>361047157d71808f6...</td><td>361047157d71808f6...</td><td>361047157d71808f6...</td><td>361047157d71808f6...</td></tr>\n",
       "<tr><td>11</td><td>5</td><td>31</td><td>41</td><td>44</td><td>48</td><td>1000000011</td><td>2000000011</td><td>3000000011</td><td>4100000011</td><td>4200000011</td><td>4300000011</td><td>4400000011</td><td>4500000011</td><td>2.50000001375E8</td><td>2.000000011E8</td><td>20000000.11</td><td>0.44</td><td>0.41</td><td>199780d32cc00f378...</td><td>199780d32cc00f378...</td><td>199780d32cc00f378...</td><td>199780d32cc00f378...</td></tr>\n",
       "<tr><td>12</td><td>5</td><td>32</td><td>42</td><td>45</td><td>49</td><td>1000000012</td><td>2000000012</td><td>3000000012</td><td>4100000012</td><td>4200000012</td><td>4300000012</td><td>4400000012</td><td>4500000012</td><td>2.500000015E8</td><td>2.000000012E8</td><td>20000000.12</td><td>0.45</td><td>0.42</td><td>c65a9f16901a3b0c1...</td><td>c65a9f16901a3b0c1...</td><td>c65a9f16901a3b0c1...</td><td>c65a9f16901a3b0c1...</td></tr>\n",
       "<tr><td>13</td><td>5</td><td>33</td><td>43</td><td>46</td><td>50</td><td>1000000013</td><td>2000000013</td><td>3000000013</td><td>4100000013</td><td>4200000013</td><td>4300000013</td><td>4400000013</td><td>4500000013</td><td>2.50000001625E8</td><td>2.000000013E8</td><td>20000000.13</td><td>0.46</td><td>0.43</td><td>8b86f47fdc4877d12...</td><td>8b86f47fdc4877d12...</td><td>8b86f47fdc4877d12...</td><td>8b86f47fdc4877d12...</td></tr>\n",
       "<tr><td>14</td><td>5</td><td>34</td><td>44</td><td>47</td><td>51</td><td>1000000014</td><td>2000000014</td><td>3000000014</td><td>4100000014</td><td>4200000014</td><td>4300000014</td><td>4400000014</td><td>4500000014</td><td>2.5000000175E8</td><td>2.000000014E8</td><td>20000000.14</td><td>0.47</td><td>0.44</td><td>422b61c1a5f06dcbf...</td><td>422b61c1a5f06dcbf...</td><td>422b61c1a5f06dcbf...</td><td>422b61c1a5f06dcbf...</td></tr>\n",
       "<tr><td>15</td><td>5</td><td>35</td><td>45</td><td>48</td><td>52</td><td>1000000015</td><td>2000000015</td><td>3000000015</td><td>4100000015</td><td>4200000015</td><td>4300000015</td><td>4400000015</td><td>4500000015</td><td>2.50000001875E8</td><td>2.000000015E8</td><td>20000000.15</td><td>0.48</td><td>0.45</td><td>66bc172b52faf05d4...</td><td>66bc172b52faf05d4...</td><td>66bc172b52faf05d4...</td><td>66bc172b52faf05d4...</td></tr>\n",
       "<tr><td>16</td><td>5</td><td>36</td><td>46</td><td>49</td><td>53</td><td>1000000016</td><td>2000000016</td><td>3000000016</td><td>4100000016</td><td>4200000016</td><td>4300000016</td><td>4400000016</td><td>4500000016</td><td>2.50000002E8</td><td>2.000000016E8</td><td>20000000.16</td><td>0.49</td><td>0.46</td><td>1bffe36cf6c46c7b4...</td><td>1bffe36cf6c46c7b4...</td><td>1bffe36cf6c46c7b4...</td><td>1bffe36cf6c46c7b4...</td></tr>\n",
       "<tr><td>17</td><td>5</td><td>37</td><td>47</td><td>50</td><td>54</td><td>1000000017</td><td>2000000017</td><td>3000000017</td><td>4100000017</td><td>4200000017</td><td>4300000017</td><td>4400000017</td><td>4500000017</td><td>2.50000002125E8</td><td>2.000000017E8</td><td>20000000.17</td><td>0.50</td><td>0.47</td><td>46d47cd75b4bf0250...</td><td>46d47cd75b4bf0250...</td><td>46d47cd75b4bf0250...</td><td>46d47cd75b4bf0250...</td></tr>\n",
       "<tr><td>18</td><td>5</td><td>38</td><td>48</td><td>51</td><td>55</td><td>1000000018</td><td>2000000018</td><td>3000000018</td><td>4100000018</td><td>4200000018</td><td>4300000018</td><td>4400000018</td><td>4500000018</td><td>2.5000000225E8</td><td>2.000000018E8</td><td>20000000.18</td><td>0.51</td><td>0.48</td><td>08c3734568f63ef53...</td><td>08c3734568f63ef53...</td><td>08c3734568f63ef53...</td><td>08c3734568f63ef53...</td></tr>\n",
       "<tr><td>19</td><td>5</td><td>39</td><td>49</td><td>52</td><td>56</td><td>1000000019</td><td>2000000019</td><td>3000000019</td><td>4100000019</td><td>4200000019</td><td>4300000019</td><td>4400000019</td><td>4500000019</td><td>2.50000002375E8</td><td>2.000000019E8</td><td>20000000.19</td><td>0.52</td><td>0.49</td><td>8f563c4da2d643db5...</td><td>8f563c4da2d643db5...</td><td>8f563c4da2d643db5...</td><td>8f563c4da2d643db5...</td></tr>\n",
       "</table>\n"
      ],
      "text/plain": [
       "+---+------------------+-----+-----+-----+-----+----------+----------+----------+----------+----------+----------+----------+----------+---------------+-------------+-----------+---------+---------+--------------------+--------------------+--------------------+--------------------+\n",
       "|val|spark_partition_id|int_1|int_2|int_3|int_4|     int_5|     int_6|    long_1|    long_2|    long_3|    long_4|    long_5|    long_6|       double_1|     double_2|  decimal_1|decimal_2|decimal_3|               str_1|               str_2|               str_3|               str_4|\n",
       "+---+------------------+-----+-----+-----+-----+----------+----------+----------+----------+----------+----------+----------+----------+---------------+-------------+-----------+---------+---------+--------------------+--------------------+--------------------+--------------------+\n",
       "|  0|                 0|   20|   30|   33|   37|1000000000|2000000000|3000000000|4100000000|4200000000|4300000000|4400000000|4500000000|          2.5E8|        2.0E8|20000000.00|     0.33|     0.30|8e97382f2e6a1fe66...|8e97382f2e6a1fe66...|8e97382f2e6a1fe66...|8e97382f2e6a1fe66...|\n",
       "|  1|                 0|   21|   31|   34|   38|1000000001|2000000001|3000000001|4100000001|4200000001|4300000001|4400000001|4500000001|2.50000000125E8|2.000000001E8|20000000.01|     0.34|     0.31|009d30980aa408f62...|009d30980aa408f62...|009d30980aa408f62...|009d30980aa408f62...|\n",
       "|  2|                 0|   22|   32|   35|   39|1000000002|2000000002|3000000002|4100000002|4200000002|4300000002|4400000002|4500000002| 2.5000000025E8|2.000000002E8|20000000.02|     0.35|     0.32|0764924ee9c3cff6d...|0764924ee9c3cff6d...|0764924ee9c3cff6d...|0764924ee9c3cff6d...|\n",
       "|  3|                 0|   23|   33|   36|   40|1000000003|2000000003|3000000003|4100000003|4200000003|4300000003|4400000003|4500000003|2.50000000375E8|2.000000003E8|20000000.03|     0.36|     0.33|4dd9845b20c0205b6...|4dd9845b20c0205b6...|4dd9845b20c0205b6...|4dd9845b20c0205b6...|\n",
       "|  4|                 0|   24|   34|   37|   41|1000000004|2000000004|3000000004|4100000004|4200000004|4300000004|4400000004|4500000004|  2.500000005E8|2.000000004E8|20000000.04|     0.37|     0.34|b4526e59a534303ef...|b4526e59a534303ef...|b4526e59a534303ef...|b4526e59a534303ef...|\n",
       "|  5|                 0|   25|   35|   38|   42|1000000005|2000000005|3000000005|4100000005|4200000005|4300000005|4400000005|4500000005|2.50000000625E8|2.000000005E8|20000000.05|     0.38|     0.35|59dea06d5a405f950...|59dea06d5a405f950...|59dea06d5a405f950...|59dea06d5a405f950...|\n",
       "|  6|                 0|   26|   36|   39|   43|1000000006|2000000006|3000000006|4100000006|4200000006|4300000006|4400000006|4500000006| 2.5000000075E8|2.000000006E8|20000000.06|     0.39|     0.36|7debb56a86892babf...|7debb56a86892babf...|7debb56a86892babf...|7debb56a86892babf...|\n",
       "|  7|                 0|   27|   37|   40|   44|1000000007|2000000007|3000000007|4100000007|4200000007|4300000007|4400000007|4500000007|2.50000000875E8|2.000000007E8|20000000.07|     0.40|     0.37|1a6f00ceda41c4f90...|1a6f00ceda41c4f90...|1a6f00ceda41c4f90...|1a6f00ceda41c4f90...|\n",
       "|  8|                 0|   28|   38|   41|   45|1000000008|2000000008|3000000008|4100000008|4200000008|4300000008|4400000008|4500000008|   2.50000001E8|2.000000008E8|20000000.08|     0.41|     0.38|a54666d8d67223511...|a54666d8d67223511...|a54666d8d67223511...|a54666d8d67223511...|\n",
       "|  9|                 0|   29|   39|   42|   46|1000000009|2000000009|3000000009|4100000009|4200000009|4300000009|4400000009|4500000009|2.50000001125E8|2.000000009E8|20000000.09|     0.42|     0.39|e3a98ec981a4c757b...|e3a98ec981a4c757b...|e3a98ec981a4c757b...|e3a98ec981a4c757b...|\n",
       "| 10|                 0|   30|   40|   43|   47|1000000010|2000000010|3000000010|4100000010|4200000010|4300000010|4400000010|4500000010| 2.5000000125E8| 2.00000001E8|20000000.10|     0.43|     0.40|361047157d71808f6...|361047157d71808f6...|361047157d71808f6...|361047157d71808f6...|\n",
       "| 11|                 0|   31|   41|   44|   48|1000000011|2000000011|3000000011|4100000011|4200000011|4300000011|4400000011|4500000011|2.50000001375E8|2.000000011E8|20000000.11|     0.44|     0.41|199780d32cc00f378...|199780d32cc00f378...|199780d32cc00f378...|199780d32cc00f378...|\n",
       "| 12|                 0|   32|   42|   45|   49|1000000012|2000000012|3000000012|4100000012|4200000012|4300000012|4400000012|4500000012|  2.500000015E8|2.000000012E8|20000000.12|     0.45|     0.42|c65a9f16901a3b0c1...|c65a9f16901a3b0c1...|c65a9f16901a3b0c1...|c65a9f16901a3b0c1...|\n",
       "| 13|                 0|   33|   43|   46|   50|1000000013|2000000013|3000000013|4100000013|4200000013|4300000013|4400000013|4500000013|2.50000001625E8|2.000000013E8|20000000.13|     0.46|     0.43|8b86f47fdc4877d12...|8b86f47fdc4877d12...|8b86f47fdc4877d12...|8b86f47fdc4877d12...|\n",
       "| 14|                 0|   34|   44|   47|   51|1000000014|2000000014|3000000014|4100000014|4200000014|4300000014|4400000014|4500000014| 2.5000000175E8|2.000000014E8|20000000.14|     0.47|     0.44|422b61c1a5f06dcbf...|422b61c1a5f06dcbf...|422b61c1a5f06dcbf...|422b61c1a5f06dcbf...|\n",
       "| 15|                 0|   35|   45|   48|   52|1000000015|2000000015|3000000015|4100000015|4200000015|4300000015|4400000015|4500000015|2.50000001875E8|2.000000015E8|20000000.15|     0.48|     0.45|66bc172b52faf05d4...|66bc172b52faf05d4...|66bc172b52faf05d4...|66bc172b52faf05d4...|\n",
       "| 16|                 0|   36|   46|   49|   53|1000000016|2000000016|3000000016|4100000016|4200000016|4300000016|4400000016|4500000016|   2.50000002E8|2.000000016E8|20000000.16|     0.49|     0.46|1bffe36cf6c46c7b4...|1bffe36cf6c46c7b4...|1bffe36cf6c46c7b4...|1bffe36cf6c46c7b4...|\n",
       "| 17|                 0|   37|   47|   50|   54|1000000017|2000000017|3000000017|4100000017|4200000017|4300000017|4400000017|4500000017|2.50000002125E8|2.000000017E8|20000000.17|     0.50|     0.47|46d47cd75b4bf0250...|46d47cd75b4bf0250...|46d47cd75b4bf0250...|46d47cd75b4bf0250...|\n",
       "| 18|                 0|   38|   48|   51|   55|1000000018|2000000018|3000000018|4100000018|4200000018|4300000018|4400000018|4500000018| 2.5000000225E8|2.000000018E8|20000000.18|     0.51|     0.48|08c3734568f63ef53...|08c3734568f63ef53...|08c3734568f63ef53...|08c3734568f63ef53...|\n",
       "| 19|                 0|   39|   49|   52|   56|1000000019|2000000019|3000000019|4100000019|4200000019|4300000019|4400000019|4500000019|2.50000002375E8|2.000000019E8|20000000.19|     0.52|     0.49|8f563c4da2d643db5...|8f563c4da2d643db5...|8f563c4da2d643db5...|8f563c4da2d643db5...|\n",
       "+---+------------------+-----+-----+-----+-----+----------+----------+----------+----------+----------+----------+----------+----------+---------------+-------------+-----------+---------+---------+--------------------+--------------------+--------------------+--------------------+"
      ]
     },
     "execution_count": 7,
     "metadata": {},
     "output_type": "execute_result"
    }
   ],
   "source": [
    "spark.sql(\"SELECT * FROM temp1 LIMIT 20\")"
   ]
  },
  {
   "cell_type": "code",
   "execution_count": null,
   "id": "473e864d-677f-43ce-8f53-44d1dae6563b",
   "metadata": {},
   "outputs": [],
   "source": []
  }
 ],
 "metadata": {
  "kernelspec": {
   "display_name": "DataSphere Kernel",
   "language": "python",
   "name": "python3"
  },
  "language_info": {
   "codemirror_mode": {
    "name": "ipython",
    "version": 3
   },
   "file_extension": ".py",
   "mimetype": "text/x-python",
   "name": "python",
   "nbconvert_exporter": "python",
   "pygments_lexer": "ipython3",
   "version": "3.10.12"
  }
 },
 "nbformat": 4,
 "nbformat_minor": 5
}
